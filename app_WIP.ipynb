{
 "cells": [
  {
   "cell_type": "code",
   "execution_count": null,
   "metadata": {},
   "outputs": [],
   "source": [
    "import pandas as pd\n",
    "import numpy as np\n",
    "from datetime import datetime, timedelta\n",
    "\n",
    "# Set random seed for reproducibility\n",
    "np.random.seed(42)\n",
    "\n",
    "# Number of records\n",
    "num_records = 100000\n",
    "\n",
    "# Generate data\n",
    "data = {\n",
    "    'transaction_id': range(1, num_records + 1),\n",
    "    'user_id': np.random.randint(1, 10001, size=num_records),\n",
    "    'transaction_amount': np.random.uniform(1, 1000, size=num_records).round(2),\n",
    "    'transaction_date': [datetime.now() - timedelta(days=np.random.randint(0, 30)) for _ in range(num_records)],\n",
    "    'transaction_type': np.random.choice(['purchase', 'withdrawal'], size=num_records),\n",
    "    'merchant_category': np.random.choice(['retail', 'online', 'grocery', 'entertainment'], size=num_records),\n",
    "    'location': np.random.choice(['New York', 'Los Angeles', 'Chicago', 'Houston', 'Phoenix'], size=num_records),\n",
    "    'device_type': np.random.choice(['mobile', 'desktop'], size=num_records),\n",
    "    'is_new_merchant': np.random.choice([0, 1], size=num_records),\n",
    "    'distance_from_home': np.random.uniform(0, 50, size=num_records).round(2),\n",
    "    'transaction_time': np.random.choice(['morning', 'afternoon', 'evening', 'night'], size=num_records),\n",
    "    'fraud': np.random.choice([0, 1], size=num_records, p=[0.95, 0.05])  # 5% fraud rate\n",
    "}\n",
    "\n",
    "# Create DataFrame\n",
    "df = pd.DataFrame(data)\n",
    "\n",
    "# Save to CSV\n",
    "df.to_csv('transaction_fraud_dataset.csv', index=False)"
   ]
  },
  {
   "cell_type": "code",
   "execution_count": null,
   "metadata": {},
   "outputs": [],
   "source": []
  }
 ],
 "metadata": {
  "kernelspec": {
   "display_name": "venv",
   "language": "python",
   "name": "python3"
  },
  "language_info": {
   "name": "python",
   "version": "3.9.0"
  }
 },
 "nbformat": 4,
 "nbformat_minor": 2
}
